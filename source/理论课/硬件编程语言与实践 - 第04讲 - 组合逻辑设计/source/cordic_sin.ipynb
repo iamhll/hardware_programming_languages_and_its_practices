{
 "cells": [
  {
   "cell_type": "code",
   "execution_count": null,
   "metadata": {},
   "outputs": [],
   "source": [
    "import math\n",
    "import matplotlib.pyplot as plt\n",
    "NUMB_ITER = 16\n",
    "ANGLES = [\n",
    "    math.atan(2**(-i)) for i in range(NUMB_ITER)\n",
    "]\n",
    "K = 1\n",
    "for i in range(NUMB_ITER):\n",
    "    K *= math.cos(ANGLES[i])\n",
    "\n",
    "def cordic_sin(theta):\n",
    "    plt.rcParams['figure.dpi'] = 300\n",
    "    fig, ax = plt.subplots()\n",
    "    ax.set_xlim([0, 1])\n",
    "    ax.set_ylim([0, 1])\n",
    "    ax.set_aspect('equal', adjustable='box')\n",
    "    x = math.cos(theta)\n",
    "    y = math.sin(theta)\n",
    "    ax.quiver(0, 0, x, y, angles='xy', scale_units='xy', scale=1, color='blue')\n",
    "    while 1:\n",
    "        if theta > math.pi / 2:\n",
    "            theta = math.pi - theta\n",
    "        elif theta < -math.pi / 2:\n",
    "            theta = -math.pi - theta\n",
    "        else:\n",
    "            break\n",
    "    x = 1\n",
    "    y = 0\n",
    "    z = theta\n",
    "    for i in range(NUMB_ITER):\n",
    "        d = 1 if z >= 0 else -1\n",
    "        x_next = x - d * y * 2**(-i)\n",
    "        y_next = y + d * x * 2**(-i)\n",
    "        z_next = z - d * ANGLES[i]\n",
    "        x = x_next * math.cos(ANGLES[i])\n",
    "        y = y_next * math.cos(ANGLES[i])\n",
    "        z = z_next\n",
    "        ax.quiver(0, 0, x, y, angles='xy', scale_units='xy', scale=1, color='red' if i == NUMB_ITER-1 else 'black')\n",
    "    ax.grid(True)\n",
    "    plt.show()\n",
    "    return y\n",
    "\n",
    "angle_in_degree = 36\n",
    "angle_in_rad = angle_in_degree / 180 * math.pi\n",
    "result = cordic_sin(angle_in_rad)\n",
    "print(f\"使用CORDIC计算sin({angle_in_degree}):\\t{result}\")\n",
    "print(f\"使用math库计算sin({angle_in_degree}):\\t{math.sin(angle_in_rad)}\")"
   ]
  }
 ],
 "metadata": {
  "kernelspec": {
   "display_name": "Python 3",
   "language": "python",
   "name": "python3"
  },
  "language_info": {
   "codemirror_mode": {
    "name": "ipython",
    "version": 3
   },
   "file_extension": ".py",
   "mimetype": "text/x-python",
   "name": "python",
   "nbconvert_exporter": "python",
   "pygments_lexer": "ipython3",
   "version": "3.8.10"
  }
 },
 "nbformat": 4,
 "nbformat_minor": 2
}
