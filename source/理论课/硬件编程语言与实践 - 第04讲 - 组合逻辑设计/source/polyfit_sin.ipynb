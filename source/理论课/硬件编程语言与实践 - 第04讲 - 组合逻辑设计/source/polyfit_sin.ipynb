{
 "cells": [
  {
   "cell_type": "code",
   "execution_count": null,
   "metadata": {},
   "outputs": [],
   "source": [
    "import numpy as np\n",
    "import matplotlib.pyplot as plt\n",
    "from matplotlib.font_manager import FontProperties\n",
    "plt.rcParams['figure.dpi'] = 300\n",
    "x = np.linspace(0, np.pi/2, 100)\n",
    "y = np.sin(x)\n",
    "plt.plot(x/np.pi/2, y, label='sin(x)', color='blue')\n",
    "for degree in [1, 2, 3, 4]:\n",
    "    coefficients = np.polyfit(x, y, degree)\n",
    "    poly = np.poly1d(coefficients)\n",
    "    y_fit = poly(x)\n",
    "    plt.plot(x/np.pi/2, y_fit, label=f'Polynomial fit (degree {degree})', linestyle='--')\n",
    "font_path = r'/mnt/c/Windows/Fonts/SimHei.ttf'\n",
    "font = FontProperties(fname=font_path, size=12)\n",
    "plt.title('sin(x)函数在[0,pi/2]范围内的多项式拟合', fontproperties=font)\n",
    "plt.xlabel('x')\n",
    "plt.ylabel('y')\n",
    "plt.legend()\n",
    "plt.grid(True)\n",
    "plt.show()"
   ]
  }
 ],
 "metadata": {
  "kernelspec": {
   "display_name": "Python 3",
   "language": "python",
   "name": "python3"
  },
  "language_info": {
   "codemirror_mode": {
    "name": "ipython",
    "version": 3
   },
   "file_extension": ".py",
   "mimetype": "text/x-python",
   "name": "python",
   "nbconvert_exporter": "python",
   "pygments_lexer": "ipython3",
   "version": "3.8.10"
  }
 },
 "nbformat": 4,
 "nbformat_minor": 2
}
