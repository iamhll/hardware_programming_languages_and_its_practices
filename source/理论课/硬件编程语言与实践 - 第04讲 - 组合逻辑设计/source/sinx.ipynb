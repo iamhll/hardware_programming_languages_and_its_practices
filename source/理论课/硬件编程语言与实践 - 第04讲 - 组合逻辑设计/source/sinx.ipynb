{
 "cells": [
  {
   "cell_type": "code",
   "execution_count": null,
   "metadata": {},
   "outputs": [],
   "source": [
    "import numpy as np\n",
    "import matplotlib.pyplot as plt\n",
    "from matplotlib.font_manager import FontProperties\n",
    "\n",
    "x_values = np.linspace(0, 4*np.pi, 100)\n",
    "f_values = np.sin(x_values)\n",
    "plt.rcParams['figure.dpi'] = 300\n",
    "plt.plot(x_values/np.pi, f_values, label='sin(x)', color='blue')\n",
    "f_values = np.cos(x_values)\n",
    "#plt.rcParams['figure.dpi'] = 300\n",
    "plt.plot(x_values/np.pi, f_values, label='cos(x)', color='red')\n",
    "font_path = r'/mnt/c/Windows/Fonts/SimHei.ttf'\n",
    "font = FontProperties(fname=font_path, size=12)\n",
    "plt.title(\"sin(x)与cos(x)的周期性\", fontproperties=font)\n",
    "plt.xlabel('x/pi')\n",
    "plt.ylabel('y')\n",
    "plt.legend()\n",
    "plt.grid(True)\n",
    "plt.show()"
   ]
  }
 ],
 "metadata": {
  "kernelspec": {
   "display_name": "Python 3",
   "language": "python",
   "name": "python3"
  },
  "language_info": {
   "codemirror_mode": {
    "name": "ipython",
    "version": 3
   },
   "file_extension": ".py",
   "mimetype": "text/x-python",
   "name": "python",
   "nbconvert_exporter": "python",
   "pygments_lexer": "ipython3",
   "version": "3.8.10"
  }
 },
 "nbformat": 4,
 "nbformat_minor": 2
}
