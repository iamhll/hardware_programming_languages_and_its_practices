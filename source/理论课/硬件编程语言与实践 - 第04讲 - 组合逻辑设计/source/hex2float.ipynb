{
 "cells": [
  {
   "cell_type": "code",
   "execution_count": null,
   "metadata": {},
   "outputs": [],
   "source": [
    "import struct\n",
    "def hex2double(strHex):\n",
    "    temp = bytes.fromhex(strHex)\n",
    "    datDouble = struct.unpack('>d', temp)[0]\n",
    "    return datDouble\n",
    "\n",
    "strHex = '4127e2c81f14ae90'\n",
    "datDouble = hex2double(strHex)\n",
    "print(f\"十六进制'{strHex}'对应的双精度浮点数是:{datDouble}\")"
   ]
  }
 ],
 "metadata": {
  "kernelspec": {
   "display_name": "Python 3",
   "language": "python",
   "name": "python3"
  },
  "language_info": {
   "codemirror_mode": {
    "name": "ipython",
    "version": 3
   },
   "file_extension": ".py",
   "mimetype": "text/x-python",
   "name": "python",
   "nbconvert_exporter": "python",
   "pygments_lexer": "ipython3",
   "version": "3.8.10"
  }
 },
 "nbformat": 4,
 "nbformat_minor": 2
}
