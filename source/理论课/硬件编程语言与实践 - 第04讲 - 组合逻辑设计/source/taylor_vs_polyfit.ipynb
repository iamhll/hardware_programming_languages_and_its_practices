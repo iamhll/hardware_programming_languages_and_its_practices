{
 "cells": [
  {
   "cell_type": "code",
   "execution_count": null,
   "metadata": {},
   "outputs": [],
   "source": [
    "import sympy as sp\n",
    "import numpy as np\n",
    "import matplotlib.pyplot as plt\n",
    "from matplotlib.font_manager import FontProperties\n",
    "\n",
    "x = sp.Symbol('x')\n",
    "f = sp.ln(x) / sp.ln(2)\n",
    "a = 1\n",
    "x_values = np.linspace(0.01, 2, 100)\n",
    "f_lambdified = sp.lambdify(x, f, 'numpy')\n",
    "f_values = f_lambdified(x_values)\n",
    "#plt.rcParams['figure.dpi'] = 300\n",
    "plt.plot(x_values, f_values, label='log2(x)', color='blue')\n",
    "for order in [2, 3, 4, 5]:\n",
    "    taylor_expansion = sp.series(f, x, a, order)\n",
    "    taylor_expansion_without_O = taylor_expansion.removeO()\n",
    "    taylor_lambdified = sp.lambdify(x, taylor_expansion_without_O, 'numpy')\n",
    "    taylor_values = taylor_lambdified(x_values)\n",
    "    plt.plot(x_values, taylor_values, label=f'Taylor expansion (order {order - 1})', linestyle='--')\n",
    "font_path = r'/mnt/c/Windows/Fonts/SimHei.ttf'\n",
    "font = FontProperties(fname=font_path, size=12)\n",
    "plt.title(\"log2(x)函数在x=1处的taylor展开\", fontproperties=font)\n",
    "plt.xlabel('x')\n",
    "plt.ylabel('y')\n",
    "plt.legend()\n",
    "plt.grid(True)\n",
    "plt.show()"
   ]
  },
  {
   "cell_type": "code",
   "execution_count": null,
   "metadata": {},
   "outputs": [],
   "source": [
    "import numpy as np\n",
    "import matplotlib.pyplot as plt\n",
    "from matplotlib.font_manager import FontProperties\n",
    "plt.rcParams['figure.dpi'] = 300\n",
    "x = np.linspace(0.01, 2, 100)\n",
    "y = np.log2(x)\n",
    "plt.plot(x, y, label='log2(x)', color='blue')\n",
    "for degree in [1, 2, 3, 4]:\n",
    "    coefficients = np.polyfit(x, y, degree)\n",
    "    poly = np.poly1d(coefficients)\n",
    "    y_fit = poly(x)\n",
    "    plt.plot(x, y_fit, label=f'Polynomial fit (degree {degree})', linestyle='--')\n",
    "font_path = r'/mnt/c/Windows/Fonts/SimHei.ttf'\n",
    "font = FontProperties(fname=font_path, size=12)\n",
    "plt.title('log2(x)函数在[0,2]范围内的多项式拟合', fontproperties=font)\n",
    "plt.xlabel('x')\n",
    "plt.ylabel('y')\n",
    "plt.legend()\n",
    "plt.grid(True)\n",
    "plt.show()"
   ]
  }
 ],
 "metadata": {
  "kernelspec": {
   "display_name": "Python 3",
   "language": "python",
   "name": "python3"
  },
  "language_info": {
   "codemirror_mode": {
    "name": "ipython",
    "version": 3
   },
   "file_extension": ".py",
   "mimetype": "text/x-python",
   "name": "python",
   "nbconvert_exporter": "python",
   "pygments_lexer": "ipython3",
   "version": "3.8.10"
  }
 },
 "nbformat": 4,
 "nbformat_minor": 2
}
